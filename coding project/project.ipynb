{
 "cells": [
  {
   "cell_type": "markdown",
   "metadata": {},
   "source": [
    "# Logistic Regression"
   ]
  },
  {
   "cell_type": "code",
   "execution_count": 69,
   "metadata": {},
   "outputs": [
    {
     "data": {
      "text/html": [
       "<div>\n",
       "<style scoped>\n",
       "    .dataframe tbody tr th:only-of-type {\n",
       "        vertical-align: middle;\n",
       "    }\n",
       "\n",
       "    .dataframe tbody tr th {\n",
       "        vertical-align: top;\n",
       "    }\n",
       "\n",
       "    .dataframe thead th {\n",
       "        text-align: right;\n",
       "    }\n",
       "</style>\n",
       "<table border=\"1\" class=\"dataframe\">\n",
       "  <thead>\n",
       "    <tr style=\"text-align: right;\">\n",
       "      <th></th>\n",
       "      <th>Pregnancies</th>\n",
       "      <th>Glucose</th>\n",
       "      <th>BloodPressure</th>\n",
       "      <th>SkinThickness</th>\n",
       "      <th>Insulin</th>\n",
       "      <th>BMI</th>\n",
       "      <th>DiabetesPedigreeFunction</th>\n",
       "      <th>Age</th>\n",
       "      <th>Outcome</th>\n",
       "    </tr>\n",
       "  </thead>\n",
       "  <tbody>\n",
       "    <tr>\n",
       "      <th>0</th>\n",
       "      <td>6</td>\n",
       "      <td>148</td>\n",
       "      <td>72</td>\n",
       "      <td>35</td>\n",
       "      <td>0</td>\n",
       "      <td>33.6</td>\n",
       "      <td>0.627</td>\n",
       "      <td>50</td>\n",
       "      <td>1</td>\n",
       "    </tr>\n",
       "    <tr>\n",
       "      <th>1</th>\n",
       "      <td>1</td>\n",
       "      <td>85</td>\n",
       "      <td>66</td>\n",
       "      <td>29</td>\n",
       "      <td>0</td>\n",
       "      <td>26.6</td>\n",
       "      <td>0.351</td>\n",
       "      <td>31</td>\n",
       "      <td>0</td>\n",
       "    </tr>\n",
       "    <tr>\n",
       "      <th>2</th>\n",
       "      <td>8</td>\n",
       "      <td>183</td>\n",
       "      <td>64</td>\n",
       "      <td>0</td>\n",
       "      <td>0</td>\n",
       "      <td>23.3</td>\n",
       "      <td>0.672</td>\n",
       "      <td>32</td>\n",
       "      <td>1</td>\n",
       "    </tr>\n",
       "    <tr>\n",
       "      <th>3</th>\n",
       "      <td>1</td>\n",
       "      <td>89</td>\n",
       "      <td>66</td>\n",
       "      <td>23</td>\n",
       "      <td>94</td>\n",
       "      <td>28.1</td>\n",
       "      <td>0.167</td>\n",
       "      <td>21</td>\n",
       "      <td>0</td>\n",
       "    </tr>\n",
       "    <tr>\n",
       "      <th>4</th>\n",
       "      <td>0</td>\n",
       "      <td>137</td>\n",
       "      <td>40</td>\n",
       "      <td>35</td>\n",
       "      <td>168</td>\n",
       "      <td>43.1</td>\n",
       "      <td>2.288</td>\n",
       "      <td>33</td>\n",
       "      <td>1</td>\n",
       "    </tr>\n",
       "    <tr>\n",
       "      <th>...</th>\n",
       "      <td>...</td>\n",
       "      <td>...</td>\n",
       "      <td>...</td>\n",
       "      <td>...</td>\n",
       "      <td>...</td>\n",
       "      <td>...</td>\n",
       "      <td>...</td>\n",
       "      <td>...</td>\n",
       "      <td>...</td>\n",
       "    </tr>\n",
       "    <tr>\n",
       "      <th>763</th>\n",
       "      <td>10</td>\n",
       "      <td>101</td>\n",
       "      <td>76</td>\n",
       "      <td>48</td>\n",
       "      <td>180</td>\n",
       "      <td>32.9</td>\n",
       "      <td>0.171</td>\n",
       "      <td>63</td>\n",
       "      <td>0</td>\n",
       "    </tr>\n",
       "    <tr>\n",
       "      <th>764</th>\n",
       "      <td>2</td>\n",
       "      <td>122</td>\n",
       "      <td>70</td>\n",
       "      <td>27</td>\n",
       "      <td>0</td>\n",
       "      <td>36.8</td>\n",
       "      <td>0.340</td>\n",
       "      <td>27</td>\n",
       "      <td>0</td>\n",
       "    </tr>\n",
       "    <tr>\n",
       "      <th>765</th>\n",
       "      <td>5</td>\n",
       "      <td>121</td>\n",
       "      <td>72</td>\n",
       "      <td>23</td>\n",
       "      <td>112</td>\n",
       "      <td>26.2</td>\n",
       "      <td>0.245</td>\n",
       "      <td>30</td>\n",
       "      <td>0</td>\n",
       "    </tr>\n",
       "    <tr>\n",
       "      <th>766</th>\n",
       "      <td>1</td>\n",
       "      <td>126</td>\n",
       "      <td>60</td>\n",
       "      <td>0</td>\n",
       "      <td>0</td>\n",
       "      <td>30.1</td>\n",
       "      <td>0.349</td>\n",
       "      <td>47</td>\n",
       "      <td>1</td>\n",
       "    </tr>\n",
       "    <tr>\n",
       "      <th>767</th>\n",
       "      <td>1</td>\n",
       "      <td>93</td>\n",
       "      <td>70</td>\n",
       "      <td>31</td>\n",
       "      <td>0</td>\n",
       "      <td>30.4</td>\n",
       "      <td>0.315</td>\n",
       "      <td>23</td>\n",
       "      <td>0</td>\n",
       "    </tr>\n",
       "  </tbody>\n",
       "</table>\n",
       "<p>768 rows × 9 columns</p>\n",
       "</div>"
      ],
      "text/plain": [
       "     Pregnancies  Glucose  BloodPressure  SkinThickness  Insulin   BMI  \\\n",
       "0              6      148             72             35        0  33.6   \n",
       "1              1       85             66             29        0  26.6   \n",
       "2              8      183             64              0        0  23.3   \n",
       "3              1       89             66             23       94  28.1   \n",
       "4              0      137             40             35      168  43.1   \n",
       "..           ...      ...            ...            ...      ...   ...   \n",
       "763           10      101             76             48      180  32.9   \n",
       "764            2      122             70             27        0  36.8   \n",
       "765            5      121             72             23      112  26.2   \n",
       "766            1      126             60              0        0  30.1   \n",
       "767            1       93             70             31        0  30.4   \n",
       "\n",
       "     DiabetesPedigreeFunction  Age  Outcome  \n",
       "0                       0.627   50        1  \n",
       "1                       0.351   31        0  \n",
       "2                       0.672   32        1  \n",
       "3                       0.167   21        0  \n",
       "4                       2.288   33        1  \n",
       "..                        ...  ...      ...  \n",
       "763                     0.171   63        0  \n",
       "764                     0.340   27        0  \n",
       "765                     0.245   30        0  \n",
       "766                     0.349   47        1  \n",
       "767                     0.315   23        0  \n",
       "\n",
       "[768 rows x 9 columns]"
      ]
     },
     "execution_count": 69,
     "metadata": {},
     "output_type": "execute_result"
    }
   ],
   "source": [
    "import pandas as pd\n",
    "import numpy as np\n",
    "\n",
    "df = pd.read_csv('diabetes2.csv')\n",
    "df"
   ]
  },
  {
   "cell_type": "code",
   "execution_count": 70,
   "metadata": {},
   "outputs": [],
   "source": [
    "features = df.drop(columns='Outcome')\n",
    "results = df['Outcome']"
   ]
  },
  {
   "cell_type": "code",
   "execution_count": 71,
   "metadata": {},
   "outputs": [],
   "source": [
    "from sklearn.model_selection import train_test_split\n",
    "from sklearn.preprocessing import StandardScaler\n",
    "from sklearn.linear_model import LogisticRegression\n",
    "from sklearn.metrics import confusion_matrix\n",
    "import matplotlib.pyplot as plt \n",
    "\n",
    "x_train, x_test, y_train, y_test = train_test_split(features, results, train_size=0.7, random_state=68)\n",
    "\n",
    "\"\"\"\n",
    "purpose of standard scaler is to calculate the z-score of each sample using:\n",
    "z = (x-u)/s where x is the sample, u is the mean, s is the standard dev\n",
    "\"\"\"\n",
    "scaler = StandardScaler()\n",
    "x_train_scaled = scaler.fit_transform(x_train)\n",
    "x_test_scaled = scaler.fit_transform(x_test)\n"
   ]
  },
  {
   "cell_type": "code",
   "execution_count": 72,
   "metadata": {},
   "outputs": [],
   "source": [
    "def sensitivity(predicted_class, actual_class):\n",
    "    tp=0\n",
    "    tn=0\n",
    "    fp=0\n",
    "    fn=0\n",
    "    for i in np.arange(len(predicted_class)):\n",
    "        if predicted_class[i] == actual_class.iloc[i]:\n",
    "            if predicted_class[i] == 1:\n",
    "                tp+=1\n",
    "            else:\n",
    "                tn+=1\n",
    "        elif predicted_class[i] != actual_class.iloc[i]:\n",
    "            if predicted_class[i] ==1:\n",
    "                fp+=1\n",
    "            else:\n",
    "                fn+=1\n",
    "\n",
    "    return (tp/(tp+fn))*100\n",
    "\n",
    "def specificity(predicted_class, actual_class):\n",
    "    tp=0\n",
    "    tn=0\n",
    "    fp=0\n",
    "    fn=0\n",
    "    for i in np.arange(len(predicted_class)):\n",
    "        if predicted_class[i] == actual_class.iloc[i]:\n",
    "            if predicted_class[i] == 1:\n",
    "                tp+=1\n",
    "            else:\n",
    "                tn+=1\n",
    "        elif predicted_class[i] != actual_class.iloc[i]:\n",
    "            if predicted_class[i] ==1:\n",
    "                fp+=1\n",
    "            else:\n",
    "                fn+=1\n",
    "\n",
    "    return (tn/(tn+fp))*100"
   ]
  },
  {
   "cell_type": "code",
   "execution_count": 73,
   "metadata": {},
   "outputs": [
    {
     "data": {
      "text/html": [
       "<div>\n",
       "<style scoped>\n",
       "    .dataframe tbody tr th:only-of-type {\n",
       "        vertical-align: middle;\n",
       "    }\n",
       "\n",
       "    .dataframe tbody tr th {\n",
       "        vertical-align: top;\n",
       "    }\n",
       "\n",
       "    .dataframe thead th {\n",
       "        text-align: right;\n",
       "    }\n",
       "</style>\n",
       "<table border=\"1\" class=\"dataframe\">\n",
       "  <thead>\n",
       "    <tr style=\"text-align: right;\">\n",
       "      <th></th>\n",
       "      <th>Pregnancies</th>\n",
       "      <th>Glucose</th>\n",
       "      <th>BloodPressure</th>\n",
       "      <th>SkinThickness</th>\n",
       "      <th>Insulin</th>\n",
       "      <th>BMI</th>\n",
       "      <th>DiabetesPedigreeFunction</th>\n",
       "      <th>Age</th>\n",
       "    </tr>\n",
       "  </thead>\n",
       "  <tbody>\n",
       "    <tr>\n",
       "      <th>342</th>\n",
       "      <td>1</td>\n",
       "      <td>0</td>\n",
       "      <td>68</td>\n",
       "      <td>35</td>\n",
       "      <td>0</td>\n",
       "      <td>32.0</td>\n",
       "      <td>0.389</td>\n",
       "      <td>22</td>\n",
       "    </tr>\n",
       "    <tr>\n",
       "      <th>207</th>\n",
       "      <td>5</td>\n",
       "      <td>162</td>\n",
       "      <td>104</td>\n",
       "      <td>0</td>\n",
       "      <td>0</td>\n",
       "      <td>37.7</td>\n",
       "      <td>0.151</td>\n",
       "      <td>52</td>\n",
       "    </tr>\n",
       "    <tr>\n",
       "      <th>705</th>\n",
       "      <td>6</td>\n",
       "      <td>80</td>\n",
       "      <td>80</td>\n",
       "      <td>36</td>\n",
       "      <td>0</td>\n",
       "      <td>39.8</td>\n",
       "      <td>0.177</td>\n",
       "      <td>28</td>\n",
       "    </tr>\n",
       "    <tr>\n",
       "      <th>568</th>\n",
       "      <td>4</td>\n",
       "      <td>154</td>\n",
       "      <td>72</td>\n",
       "      <td>29</td>\n",
       "      <td>126</td>\n",
       "      <td>31.3</td>\n",
       "      <td>0.338</td>\n",
       "      <td>37</td>\n",
       "    </tr>\n",
       "    <tr>\n",
       "      <th>755</th>\n",
       "      <td>1</td>\n",
       "      <td>128</td>\n",
       "      <td>88</td>\n",
       "      <td>39</td>\n",
       "      <td>110</td>\n",
       "      <td>36.5</td>\n",
       "      <td>1.057</td>\n",
       "      <td>37</td>\n",
       "    </tr>\n",
       "    <tr>\n",
       "      <th>...</th>\n",
       "      <td>...</td>\n",
       "      <td>...</td>\n",
       "      <td>...</td>\n",
       "      <td>...</td>\n",
       "      <td>...</td>\n",
       "      <td>...</td>\n",
       "      <td>...</td>\n",
       "      <td>...</td>\n",
       "    </tr>\n",
       "    <tr>\n",
       "      <th>240</th>\n",
       "      <td>1</td>\n",
       "      <td>91</td>\n",
       "      <td>64</td>\n",
       "      <td>24</td>\n",
       "      <td>0</td>\n",
       "      <td>29.2</td>\n",
       "      <td>0.192</td>\n",
       "      <td>21</td>\n",
       "    </tr>\n",
       "    <tr>\n",
       "      <th>236</th>\n",
       "      <td>7</td>\n",
       "      <td>181</td>\n",
       "      <td>84</td>\n",
       "      <td>21</td>\n",
       "      <td>192</td>\n",
       "      <td>35.9</td>\n",
       "      <td>0.586</td>\n",
       "      <td>51</td>\n",
       "    </tr>\n",
       "    <tr>\n",
       "      <th>202</th>\n",
       "      <td>0</td>\n",
       "      <td>108</td>\n",
       "      <td>68</td>\n",
       "      <td>20</td>\n",
       "      <td>0</td>\n",
       "      <td>27.3</td>\n",
       "      <td>0.787</td>\n",
       "      <td>32</td>\n",
       "    </tr>\n",
       "    <tr>\n",
       "      <th>423</th>\n",
       "      <td>2</td>\n",
       "      <td>115</td>\n",
       "      <td>64</td>\n",
       "      <td>22</td>\n",
       "      <td>0</td>\n",
       "      <td>30.8</td>\n",
       "      <td>0.421</td>\n",
       "      <td>21</td>\n",
       "    </tr>\n",
       "    <tr>\n",
       "      <th>498</th>\n",
       "      <td>7</td>\n",
       "      <td>195</td>\n",
       "      <td>70</td>\n",
       "      <td>33</td>\n",
       "      <td>145</td>\n",
       "      <td>25.1</td>\n",
       "      <td>0.163</td>\n",
       "      <td>55</td>\n",
       "    </tr>\n",
       "  </tbody>\n",
       "</table>\n",
       "<p>537 rows × 8 columns</p>\n",
       "</div>"
      ],
      "text/plain": [
       "     Pregnancies  Glucose  BloodPressure  SkinThickness  Insulin   BMI  \\\n",
       "342            1        0             68             35        0  32.0   \n",
       "207            5      162            104              0        0  37.7   \n",
       "705            6       80             80             36        0  39.8   \n",
       "568            4      154             72             29      126  31.3   \n",
       "755            1      128             88             39      110  36.5   \n",
       "..           ...      ...            ...            ...      ...   ...   \n",
       "240            1       91             64             24        0  29.2   \n",
       "236            7      181             84             21      192  35.9   \n",
       "202            0      108             68             20        0  27.3   \n",
       "423            2      115             64             22        0  30.8   \n",
       "498            7      195             70             33      145  25.1   \n",
       "\n",
       "     DiabetesPedigreeFunction  Age  \n",
       "342                     0.389   22  \n",
       "207                     0.151   52  \n",
       "705                     0.177   28  \n",
       "568                     0.338   37  \n",
       "755                     1.057   37  \n",
       "..                        ...  ...  \n",
       "240                     0.192   21  \n",
       "236                     0.586   51  \n",
       "202                     0.787   32  \n",
       "423                     0.421   21  \n",
       "498                     0.163   55  \n",
       "\n",
       "[537 rows x 8 columns]"
      ]
     },
     "execution_count": 73,
     "metadata": {},
     "output_type": "execute_result"
    }
   ],
   "source": [
    "x_train"
   ]
  },
  {
   "cell_type": "code",
   "execution_count": 74,
   "metadata": {},
   "outputs": [
    {
     "data": {
      "text/plain": [
       "array([[-0.85241942, -3.76778415, -0.06250057, ...,  0.01543219,\n",
       "        -0.21363888, -0.96399601],\n",
       "       [ 0.34509328,  1.26932266,  1.79350715, ...,  0.73659846,\n",
       "        -0.9268809 ,  1.55792274],\n",
       "       [ 0.64447145, -1.280324  ,  0.55616867, ...,  1.0022913 ,\n",
       "        -0.84896371, -0.45961226],\n",
       "       ...,\n",
       "       [-1.1517976 , -0.40971294, -0.06250057, ..., -0.57921369,\n",
       "         0.97909357, -0.12335642],\n",
       "       [-0.55304125, -0.19206018, -0.26872365, ..., -0.13639229,\n",
       "        -0.1177408 , -1.04805996],\n",
       "       [ 0.94384963,  2.29539997,  0.04061097, ..., -0.85755856,\n",
       "        -0.89091912,  1.81011462]])"
      ]
     },
     "execution_count": 74,
     "metadata": {},
     "output_type": "execute_result"
    }
   ],
   "source": [
    "x_train_scaled"
   ]
  },
  {
   "cell_type": "code",
   "execution_count": 75,
   "metadata": {},
   "outputs": [
    {
     "name": "stderr",
     "output_type": "stream",
     "text": [
      "c:\\Users\\admin\\AppData\\Local\\Programs\\Python\\Python311\\Lib\\site-packages\\sklearn\\linear_model\\_logistic.py:469: ConvergenceWarning: lbfgs failed to converge (status=1):\n",
      "STOP: TOTAL NO. of ITERATIONS REACHED LIMIT.\n",
      "\n",
      "Increase the number of iterations (max_iter) or scale the data as shown in:\n",
      "    https://scikit-learn.org/stable/modules/preprocessing.html\n",
      "Please also refer to the documentation for alternative solver options:\n",
      "    https://scikit-learn.org/stable/modules/linear_model.html#logistic-regression\n",
      "  n_iter_i = _check_optimize_result(\n"
     ]
    },
    {
     "data": {
      "image/png": "[encoded data removed]",
      "text/plain": [
       "<Figure size 600x600 with 2 Axes>"
      ]
     },
     "metadata": {},
     "output_type": "display_data"
    },
    {
     "data": {
      "image/png": "[encoded data removed]",
      "text/plain": [
       "<Figure size 600x600 with 2 Axes>"
      ]
     },
     "metadata": {},
     "output_type": "display_data"
    },
    {
     "name": "stdout",
     "output_type": "stream",
     "text": [
      "\n",
      "Training accuracy score of Logistic regression model: 77.84 %\n",
      "Test accuracy score of Logistic regression model: 75.76 %\n"
     ]
    }
   ],
   "source": [
    "log_reg = LogisticRegression(random_state=25).fit(x_train, y_train)\n",
    "predictions_train = log_reg.predict(x_train) # can change to scaled\n",
    "predictions_test = log_reg.predict(x_test)\n",
    "\n",
    "Cmatrix1 = confusion_matrix(y_train, predictions_train)\n",
    "Cmatrix2 = confusion_matrix(y_test, predictions_test)\n",
    "\n",
    "coefficients = log_reg.coef_\n",
    "\n",
    "def plot_cmatrix(Cmatrix):\n",
    "    #   plotting confusion matrix for data visualization\n",
    "    fig, ax = plt.subplots(figsize=(6,6))\n",
    "    cax = ax.matshow(Cmatrix, cmap='Blues')\n",
    "    fig.colorbar(cax)\n",
    "\n",
    "    class_names = ['Negative','Positive']\n",
    "    ax.set_xticks(np.arange(len(class_names)))\n",
    "    ax.set_yticks(np.arange(len(class_names)))\n",
    "    ax.xaxis.set_ticks_position('bottom')\n",
    "    plt.xticks(rotation=45)\n",
    "    ax.set_xticklabels(class_names)\n",
    "    ax.set_yticklabels(class_names)\n",
    "    plt.xlabel('Predicted classes')\n",
    "    plt.ylabel('Actual classes')\n",
    "    # plt.title('Confusion Matrix')\n",
    "\n",
    "    # adding text annotations to the cells\n",
    "    thresh = Cmatrix.max() / 2.\n",
    "    for i in range(Cmatrix.shape[0]):\n",
    "        for j in range(Cmatrix.shape[1]):\n",
    "            plt.text(j, i, format(Cmatrix[i, j], 'd'),\n",
    "                    horizontalalignment=\"center\",\n",
    "                    color=\"white\" if Cmatrix[i, j] > thresh else \"black\")\n",
    "\n",
    "    plt.show()\n",
    "plot_cmatrix(Cmatrix1)\n",
    "plot_cmatrix(Cmatrix2)\n",
    "\n",
    "train_accuracy = log_reg.score(x_train,y_train) # can change to scaled\n",
    "test_accuracy = log_reg.score(x_test,y_test)\n",
    "\n",
    "print('\\nTraining accuracy score of Logistic regression model:',format(train_accuracy*100,'.2f'),\"%\")\n",
    "print('Test accuracy score of Logistic regression model:',format(test_accuracy*100,'.2f'),\"%\")"
   ]
  },
  {
   "cell_type": "code",
   "execution_count": 76,
   "metadata": {},
   "outputs": [
    {
     "name": "stdout",
     "output_type": "stream",
     "text": [
      "Training accuracy score of Logistic regression model: 77.84 %\n",
      "Training sensitivity score of Logistic regression model: 59.38 %\n",
      "Training specificity score of Logistic regression model: 88.12 %\n"
     ]
    }
   ],
   "source": [
    "print('Training accuracy score of Logistic regression model:',format(train_accuracy*100,'.2f'),\"%\")\n",
    "print('Training sensitivity score of Logistic regression model:',format(sensitivity(predictions_train,y_train),'.2f'),\"%\")\n",
    "print('Training specificity score of Logistic regression model:',format(specificity(predictions_train,y_train),'.2f'),\"%\")"
   ]
  },
  {
   "cell_type": "code",
   "execution_count": 77,
   "metadata": {},
   "outputs": [
    {
     "name": "stdout",
     "output_type": "stream",
     "text": [
      "Test accuracy score of Logistic regression model: 75.76 %\n",
      "Test sensitivity score of Logistic regression model: 59.21 %\n",
      "Test specificity score of Logistic regression model: 83.87 %\n"
     ]
    }
   ],
   "source": [
    "print('Test accuracy score of Logistic regression model:',format(test_accuracy*100,'.2f'),\"%\")\n",
    "print('Test sensitivity score of Logistic regression model:',format(sensitivity(predictions_test,y_test),'.2f'),\"%\")\n",
    "print('Test specificity score of Logistic regression model:',format(specificity(predictions_test,y_test),'.2f'),\"%\")"
   ]
  },
  {
   "cell_type": "code",
   "execution_count": 78,
   "metadata": {},
   "outputs": [
    {
     "name": "stdout",
     "output_type": "stream",
     "text": [
      "Coefficient of pregnancy: \t 0.12406\n",
      "Coefficient of glucose: \t 0.03430\n",
      "Coefficient of blood pressure: \t -0.01144\n",
      "Coefficient of skin thickness: \t -0.01101\n",
      "Coefficient of insulin: \t 0.00026\n",
      "Coefficient of BMI: \t\t 0.10723\n",
      "Coefficient of DPF: \t\t 0.90496\n",
      "Coefficient of Age: \t\t 0.01802\n"
     ]
    }
   ],
   "source": [
    "print('Coefficient of pregnancy: \\t',format(coefficients[0, 0],'.5f'))\n",
    "print('Coefficient of glucose: \\t',format(coefficients[0, 1],'.5f'))\n",
    "print('Coefficient of blood pressure: \\t',format(coefficients[0, 2],'.5f'))\n",
    "print('Coefficient of skin thickness: \\t',format(coefficients[0, 3],'.5f'))\n",
    "print('Coefficient of insulin: \\t',format(coefficients[0, 4],'.5f'))\n",
    "print('Coefficient of BMI: \\t\\t',format(coefficients[0, 5],'.5f'))\n",
    "print('Coefficient of DPF: \\t\\t',format(coefficients[0, 6],'.5f'))\n",
    "print('Coefficient of Age: \\t\\t',format(coefficients[0, 7],'.5f'))"
   ]
  },
  {
   "cell_type": "markdown",
   "metadata": {},
   "source": [
    "# Random Forest Classifier\n",
    "\n",
    "**After several runs and experimenting on different values of parameters for the logistic regression model, the test accuracy remained below 80% which makes this method of predicting diabetes subpar. Moving on, we try Random Forest Classifier which is an upgraded version of Decision Tree Classifier. We use the same dataset.**"
   ]
  },
  {
   "cell_type": "code",
   "execution_count": 79,
   "metadata": {},
   "outputs": [
    {
     "data": {
      "image/png": "[encoded data removed]",
      "text/plain": [
       "<Figure size 600x600 with 2 Axes>"
      ]
     },
     "metadata": {},
     "output_type": "display_data"
    },
    {
     "data": {
      "image/png": "[encoded data removed]",
      "text/plain": [
       "<Figure size 600x600 with 2 Axes>"
      ]
     },
     "metadata": {},
     "output_type": "display_data"
    },
    {
     "name": "stdout",
     "output_type": "stream",
     "text": [
      "\n",
      "Training accuracy score of Logistic regression model: 100.00 %\n",
      "Test accuracy score of Logistic regression model: 76.19 %\n"
     ]
    }
   ],
   "source": [
    "from sklearn.ensemble import RandomForestClassifier\n",
    "\n",
    "classifier = RandomForestClassifier(random_state=12,n_estimators=50)\n",
    "classifier.fit(x_train, y_train)\n",
    "\n",
    "train_score = classifier.score(x_train, y_train)\n",
    "test_score = classifier.score(x_test, y_test)\n",
    "\n",
    "predicts_train = classifier.predict(x_train)\n",
    "predicts_test = classifier.predict(x_test)\n",
    "\n",
    "# creating and plotting confusion matrices\n",
    "Cmatrix3 = confusion_matrix(y_train, predicts_train)\n",
    "Cmatrix4 = confusion_matrix(y_test, predicts_test)\n",
    "plot_cmatrix(Cmatrix3)\n",
    "plot_cmatrix(Cmatrix4)\n",
    "\n",
    "print('\\nTraining accuracy score of Logistic regression model:',format(train_score*100,'.2f'),\"%\")\n",
    "print('Test accuracy score of Logistic regression model:',format(test_score*100,'.2f'),\"%\")"
   ]
  },
  {
   "cell_type": "code",
   "execution_count": 80,
   "metadata": {},
   "outputs": [
    {
     "name": "stdout",
     "output_type": "stream",
     "text": [
      "Training accuracy score of Logistic regression model: 100.00 %\n",
      "Training sensitivity score of Logistic regression model: 100.00 %\n",
      "Training specificity score of Logistic regression model: 100.00 %\n"
     ]
    }
   ],
   "source": [
    "print('Training accuracy score of Logistic regression model:',format(train_score*100,'.2f'),\"%\")\n",
    "print('Training sensitivity score of Logistic regression model:',format(sensitivity(predicts_train,y_train),'.2f'),\"%\")\n",
    "print('Training specificity score of Logistic regression model:',format(specificity(predicts_train,y_train),'.2f'),\"%\")"
   ]
  },
  {
   "cell_type": "code",
   "execution_count": 81,
   "metadata": {},
   "outputs": [
    {
     "name": "stdout",
     "output_type": "stream",
     "text": [
      "Test accuracy score of Random Forest Classifier: 76.19 %\n",
      "Test sensitivity score of Random Forest Classifier: 61.84 %\n",
      "Test specificity score of Random Forest Classifier: 83.23 %\n"
     ]
    }
   ],
   "source": [
    "print('Test accuracy score of Random Forest Classifier:',format(test_score*100,'.2f'),\"%\")\n",
    "print('Test sensitivity score of Random Forest Classifier:',format(sensitivity(predicts_test,y_test),'.2f'),\"%\")\n",
    "print('Test specificity score of Random Forest Classifier:',format(specificity(predicts_test,y_test),'.2f'),\"%\")"
   ]
  },
  {
   "cell_type": "code",
   "execution_count": 82,
   "metadata": {},
   "outputs": [
    {
     "data": {
      "text/html": [
       "<div>\n",
       "<style scoped>\n",
       "    .dataframe tbody tr th:only-of-type {\n",
       "        vertical-align: middle;\n",
       "    }\n",
       "\n",
       "    .dataframe tbody tr th {\n",
       "        vertical-align: top;\n",
       "    }\n",
       "\n",
       "    .dataframe thead th {\n",
       "        text-align: right;\n",
       "    }\n",
       "</style>\n",
       "<table border=\"1\" class=\"dataframe\">\n",
       "  <thead>\n",
       "    <tr style=\"text-align: right;\">\n",
       "      <th></th>\n",
       "      <th>Pregnancies</th>\n",
       "      <th>Glucose</th>\n",
       "      <th>BloodPressure</th>\n",
       "      <th>SkinThickness</th>\n",
       "      <th>Insulin</th>\n",
       "      <th>BMI</th>\n",
       "      <th>DiabetesPedigreeFunction</th>\n",
       "      <th>Age</th>\n",
       "    </tr>\n",
       "  </thead>\n",
       "  <tbody>\n",
       "    <tr>\n",
       "      <th>0</th>\n",
       "      <td>0</td>\n",
       "      <td>140</td>\n",
       "      <td>60</td>\n",
       "      <td>12</td>\n",
       "      <td>100</td>\n",
       "      <td>18.5</td>\n",
       "      <td>0.2</td>\n",
       "      <td>21</td>\n",
       "    </tr>\n",
       "  </tbody>\n",
       "</table>\n",
       "</div>"
      ],
      "text/plain": [
       "   Pregnancies  Glucose  BloodPressure  SkinThickness  Insulin   BMI  \\\n",
       "0            0      140             60             12      100  18.5   \n",
       "\n",
       "   DiabetesPedigreeFunction  Age  \n",
       "0                       0.2   21  "
      ]
     },
     "metadata": {},
     "output_type": "display_data"
    },
    {
     "name": "stdout",
     "output_type": "stream",
     "text": [
      "Using Random Forest Classifier: Patient is NEGATIVE for diabetes.\n",
      "Using Logistic Regression Model: Patient is NEGATIVE for diabetes.\n"
     ]
    }
   ],
   "source": [
    "# input variables\n",
    "preg = 0\n",
    "glucose = 140\n",
    "bp = 60\n",
    "skinThickness = 12\n",
    "insulin = 100\n",
    "bmi = 18.5\n",
    "dpf = 0.20\n",
    "age = 21\n",
    "\n",
    "sample = pd.DataFrame({'Pregnancies':[preg], 'Glucose':[glucose], 'BloodPressure':[bp], 'SkinThickness':[skinThickness], \n",
    "                        'Insulin':[insulin], 'BMI':[bmi], 'DiabetesPedigreeFunction':[dpf], 'Age':[age]})\n",
    "display(sample)\n",
    "\n",
    "z = classifier.predict(sample)\n",
    "zz = log_reg.predict(sample)\n",
    "if z[0] == 1:\n",
    "    print('Using Random Forest Classifier: Patient is POSITIVE for diabetes.')\n",
    "else:\n",
    "    print('Using Random Forest Classifier: Patient is NEGATIVE for diabetes.')\n",
    "if zz[0] == 1:\n",
    "    print('Using Logistic Regression Model: Patient is POSITIVE for diabetes.')\n",
    "else:\n",
    "    print('Using Logistic Regression Model: Patient is NEGATIVE for diabetes.')"
   ]
  }
 ],
 "metadata": {
  "kernelspec": {
   "display_name": "Python 3",
   "language": "python",
   "name": "python3"
  },
  "language_info": {
   "codemirror_mode": {
    "name": "ipython",
    "version": 3
   },
   "file_extension": ".py",
   "mimetype": "text/x-python",
   "name": "python",
   "nbconvert_exporter": "python",
   "pygments_lexer": "ipython3",
   "version": "3.11.3"
  }
 },
 "nbformat": 4,
 "nbformat_minor": 2
}
